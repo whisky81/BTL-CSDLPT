{
 "cells": [
  {
   "cell_type": "code",
   "execution_count": 4,
   "id": "ec0d9c29",
   "metadata": {},
   "outputs": [
    {
     "data": {
      "text/plain": [
       "True"
      ]
     },
     "execution_count": 4,
     "metadata": {},
     "output_type": "execute_result"
    }
   ],
   "source": [
    "from Interface import getopenconnection, create_db, loadratings, rangepartition\n",
    "import os \n",
    "from dotenv import load_dotenv\n",
    "\n",
    "load_dotenv()"
   ]
  },
  {
   "cell_type": "code",
   "execution_count": 6,
   "id": "6f662954",
   "metadata": {},
   "outputs": [
    {
     "name": "stdout",
     "output_type": "stream",
     "text": [
      "Database 'dds_assgn1' already exists\n"
     ]
    }
   ],
   "source": [
    "create_db(dbname=os.getenv(\"DATABASE_NAME\"))"
   ]
  },
  {
   "cell_type": "code",
   "execution_count": 7,
   "id": "bbd08ac9",
   "metadata": {},
   "outputs": [],
   "source": [
    "conn = getopenconnection(dbname='dds_assgn1')\n",
    "loadratings('ratings', './ml-10m/ml-10M100K/ratings.dat', conn)\n",
    "conn.close()"
   ]
  }
 ],
 "metadata": {
  "kernelspec": {
   "display_name": ".venv",
   "language": "python",
   "name": "python3"
  },
  "language_info": {
   "codemirror_mode": {
    "name": "ipython",
    "version": 3
   },
   "file_extension": ".py",
   "mimetype": "text/x-python",
   "name": "python",
   "nbconvert_exporter": "python",
   "pygments_lexer": "ipython3",
   "version": "3.12.3"
  }
 },
 "nbformat": 4,
 "nbformat_minor": 5
}
