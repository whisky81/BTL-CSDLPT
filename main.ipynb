{
 "cells": [
  {
   "cell_type": "code",
   "execution_count": 19,
   "id": "ec0d9c29",
   "metadata": {},
   "outputs": [
    {
     "data": {
      "text/plain": [
       "True"
      ]
     },
     "execution_count": 19,
     "metadata": {},
     "output_type": "execute_result"
    }
   ],
   "source": [
    "import Interface \n",
    "import os \n",
    "from dotenv import load_dotenv\n",
    "\n",
    "load_dotenv()"
   ]
  },
  {
   "cell_type": "code",
   "execution_count": 20,
   "id": "6f662954",
   "metadata": {},
   "outputs": [
    {
     "name": "stdout",
     "output_type": "stream",
     "text": [
      "Database 'dds_assgn1' already exists\n"
     ]
    }
   ],
   "source": [
    "Interface.create_db(dbname=os.getenv(\"DATABASE_NAME\"))"
   ]
  },
  {
   "cell_type": "code",
   "execution_count": 21,
   "id": "7954a462",
   "metadata": {},
   "outputs": [
    {
     "name": "stdout",
     "output_type": "stream",
     "text": [
      "syntax error at or near \",\"\n",
      "LINE 3:         SELECT , , ROW_NUMBER() OVER () AS rnum\n",
      "                       ^\n",
      "\n",
      "syntax error at or near \",\"\n",
      "LINE 3:         SELECT , , ROW_NUMBER() OVER () AS rnum\n",
      "                       ^\n",
      "\n"
     ]
    },
    {
     "ename": "SyntaxError",
     "evalue": "syntax error at or near \",\"\nLINE 3:         SELECT , , ROW_NUMBER() OVER () AS rnum\n                       ^\n",
     "output_type": "error",
     "traceback": [
      "\u001b[31m---------------------------------------------------------------------------\u001b[39m",
      "\u001b[31mSyntaxError\u001b[39m                               Traceback (most recent call last)",
      "\u001b[36mCell\u001b[39m\u001b[36m \u001b[39m\u001b[32mIn[21]\u001b[39m\u001b[32m, line 4\u001b[39m\n\u001b[32m      2\u001b[39m \u001b[38;5;28;01mtry\u001b[39;00m:\n\u001b[32m      3\u001b[39m     conn = Interface.getopenconnection(dbname=os.getenv(\u001b[33m\"\u001b[39m\u001b[33mDATABASE_NAME\u001b[39m\u001b[33m\"\u001b[39m))\n\u001b[32m----> \u001b[39m\u001b[32m4\u001b[39m     \u001b[43mInterface\u001b[49m\u001b[43m.\u001b[49m\u001b[43mroundrobinpartition\u001b[49m\u001b[43m(\u001b[49m\n\u001b[32m      5\u001b[39m \u001b[43m        \u001b[49m\u001b[33;43m'\u001b[39;49m\u001b[33;43mratings\u001b[39;49m\u001b[33;43m'\u001b[39;49m\u001b[43m,\u001b[49m\n\u001b[32m      6\u001b[39m \u001b[43m        \u001b[49m\u001b[32;43m10\u001b[39;49m\u001b[43m,\u001b[49m\n\u001b[32m      7\u001b[39m \u001b[43m        \u001b[49m\u001b[43mconn\u001b[49m\u001b[43m \u001b[49m\n\u001b[32m      8\u001b[39m \u001b[43m    \u001b[49m\u001b[43m)\u001b[49m\n\u001b[32m      9\u001b[39m \u001b[38;5;28;01mexcept\u001b[39;00m \u001b[38;5;167;01mException\u001b[39;00m \u001b[38;5;28;01mas\u001b[39;00m e:\n\u001b[32m     10\u001b[39m     \u001b[38;5;28mprint\u001b[39m(e)\n",
      "\u001b[36mFile \u001b[39m\u001b[32m~/code/ddbms/Interface.py:181\u001b[39m, in \u001b[36mroundrobinpartition\u001b[39m\u001b[34m(ratingstablename, numberofpartitions, openconnection)\u001b[39m\n\u001b[32m    178\u001b[39m cur = con.cursor()\n\u001b[32m    179\u001b[39m RROBIN_TABLE_PREFIX = \u001b[33m'\u001b[39m\u001b[33mrrobin_part\u001b[39m\u001b[33m'\u001b[39m\n\u001b[32m--> \u001b[39m\u001b[32m181\u001b[39m \u001b[43mcur\u001b[49m\u001b[43m.\u001b[49m\u001b[43mexecute\u001b[49m\u001b[43m(\u001b[49m\u001b[43mtemp_tb\u001b[49m\u001b[43m)\u001b[49m\n\u001b[32m    183\u001b[39m \u001b[38;5;28;01mfor\u001b[39;00m i \u001b[38;5;129;01min\u001b[39;00m \u001b[38;5;28mrange\u001b[39m(\u001b[32m0\u001b[39m, numberofpartitions):\n\u001b[32m    184\u001b[39m     table_name = RROBIN_TABLE_PREFIX + \u001b[38;5;28mstr\u001b[39m(i)\n",
      "\u001b[31mSyntaxError\u001b[39m: syntax error at or near \",\"\nLINE 3:         SELECT , , ROW_NUMBER() OVER () AS rnum\n                       ^\n"
     ]
    }
   ],
   "source": [
    "conn = None \n",
    "try:\n",
    "    conn = Interface.getopenconnection(dbname=os.getenv(\"DATABASE_NAME\"))\n",
    "    Interface.roundrobinpartition(\n",
    "        'ratings',\n",
    "        10,\n",
    "        conn \n",
    "    )\n",
    "except Exception as e:\n",
    "    print(e)\n",
    "    raise \n",
    "finally:\n",
    "    conn.close()\n",
    "    "
   ]
  },
  {
   "cell_type": "code",
   "execution_count": 35,
   "id": "bbd08ac9",
   "metadata": {},
   "outputs": [],
   "source": [
    "# conn = Interface.getopenconnection(dbname='dds_assgn1')\n",
    "# Interface.loadratings('ratings', './ml-10M100K/ratings.dat', conn)\n",
    "# conn.close()"
   ]
  },
  {
   "cell_type": "code",
   "execution_count": 38,
   "id": "d518db9e",
   "metadata": {},
   "outputs": [],
   "source": [
    "conn = Interface.getopenconnection(dbname=os.getenv(\"DATABASE_NAME\"))\n",
    "Interface.rangepartition('ratings', 5, conn)\n",
    "conn.close()"
   ]
  },
  {
   "cell_type": "code",
   "execution_count": 36,
   "id": "aab496d0",
   "metadata": {},
   "outputs": [],
   "source": [
    "def drop_range_part_tables(n):\n",
    "    conn = None\n",
    "    try:\n",
    "        conn = Interface.getopenconnection(dbname=os.getenv(\"DATABASE_NAME\"))\n",
    "        Interface.rangepartition('ratings', n, conn) \n",
    "        cur = conn.cursor()\n",
    "\n",
    "        # Tìm tất cả các bảng có tên bắt đầu với 'range_part'\n",
    "        cur.execute(\"\"\"\n",
    "            SELECT tablename \n",
    "            FROM pg_tables \n",
    "            WHERE tablename LIKE 'range_part%%' AND schemaname = 'public'\n",
    "        \"\"\")\n",
    "        tables = cur.fetchall()\n",
    "\n",
    "        for table in tables:\n",
    "            table_name = table[0]\n",
    "            \n",
    "            # Đếm số dòng\n",
    "            cur.execute(f'SELECT COUNT(*) FROM \"{table_name}\"')\n",
    "            row_count = cur.fetchone()[0]\n",
    "            print(row_count, end=\" \")\n",
    "\n",
    "            # Xóa bảng\n",
    "            cur.execute(f'DROP TABLE IF EXISTS \"{table_name}\" CASCADE')\n",
    "        print()\n",
    "\n",
    "        conn.commit()\n",
    "        cur.close()\n",
    "    except Exception as e:\n",
    "        print(f\"Error: {e}\")\n",
    "    finally:\n",
    "        if conn:\n",
    "            conn.close()"
   ]
  },
  {
   "cell_type": "code",
   "execution_count": 37,
   "id": "f4513a4d",
   "metadata": {},
   "outputs": [
    {
     "name": "stdout",
     "output_type": "stream",
     "text": [
      "479168 908584 2726854 3755614 2129834 \n",
      "94988 502458 1160484 2356676 3755614 2129834 \n",
      "94988 384180 908584 370178 3236440 2875850 2129834 \n",
      "94988 384180 118278 1160484 2356676 879764 2875850 2129834 \n",
      "94988 384180 118278 790306 370178 2356676 879764 2875850 2129834 \n",
      "94988 384180 118278 790306 370178 2356676 879764 2875850 585022 1544812 \n",
      "0 94988 0 384180 118278 790306 370178 2356676 879764 2875850 585022 \n",
      "0 94988 585022 1544812 384180 118278 790306 370178 0 2356676 879764 2875850 \n",
      "0 94988 2875850 585022 1544812 384180 118278 0 790306 370178 2356676 0 879764 \n",
      "0 94988 0 2875850 585022 1544812 384180 0 118278 790306 370178 0 2356676 879764 \n",
      "0 94988 384180 0 118278 0 0 370178 2356676 0 879764 2875850 0 585022 0 \n",
      "0 94988 0 384180 118278 0 790306 370178 0 2356676 0 879764 2875850 0 585022 1544812 \n",
      "0 94988 0 384180 0 118278 790306 0 370178 0 2356676 879764 0 2875850 0 585022 1544812 \n",
      "0 94988 0 384180 0 118278 0 790306 370178 0 2356676 0 879764 0 2875850 0 585022 1544812 \n",
      "0 94988 0 384180 0 118278 0 790306 0 370178 0 2356676 0 879764 0 2875850 0 585022 1544812 \n"
     ]
    }
   ],
   "source": [
    "for i in range(5, 20):\n",
    "    drop_range_part_tables(i)"
   ]
  }
 ],
 "metadata": {
  "kernelspec": {
   "display_name": ".venv",
   "language": "python",
   "name": "python3"
  },
  "language_info": {
   "codemirror_mode": {
    "name": "ipython",
    "version": 3
   },
   "file_extension": ".py",
   "mimetype": "text/x-python",
   "name": "python",
   "nbconvert_exporter": "python",
   "pygments_lexer": "ipython3",
   "version": "3.12.3"
  }
 },
 "nbformat": 4,
 "nbformat_minor": 5
}
