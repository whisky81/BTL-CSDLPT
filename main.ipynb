{
 "cells": [
  {
   "cell_type": "code",
   "execution_count": 64,
   "id": "5f7838c0",
   "metadata": {},
   "outputs": [
    {
     "data": {
      "text/plain": [
       "True"
      ]
     },
     "execution_count": 64,
     "metadata": {},
     "output_type": "execute_result"
    }
   ],
   "source": [
    "import psycopg2\n",
    "from dotenv import load_dotenv\n",
    "import os \n",
    "from io import StringIO\n",
    "from psycopg2.sql import SQL, Identifier\n",
    "\n",
    "load_dotenv()"
   ]
  },
  {
   "cell_type": "code",
   "execution_count": 65,
   "id": "79256269",
   "metadata": {},
   "outputs": [],
   "source": [
    "def getopenconnection(dbname='postgres'):\n",
    "    return psycopg2.connect(\n",
    "        dbname=dbname,\n",
    "        user=os.getenv(\"USER\"), \n",
    "        password=os.getenv(\"PASSWORD\"),\n",
    "        host=os.getenv(\"HOST\"),\n",
    "        port=os.getenv(\"PORT\")\n",
    "    )\n",
    " \n",
    "\n",
    "def create_db(dbname):\n",
    "    \"\"\"\n",
    "    We create a DB by connecting to the default user and database of Postgres\n",
    "    The function first checks if an existing database exists for a given name, else creates it.\n",
    "    :return:None\n",
    "    \"\"\"\n",
    "    conn = None\n",
    "    cur = None \n",
    "    try:\n",
    "        conn = getopenconnection(dbname='postgres') \n",
    "        conn.set_isolation_level(psycopg2.extensions.ISOLATION_LEVEL_AUTOCOMMIT)\n",
    "        cur = conn.cursor()\n",
    "\n",
    "        # Check if database exists (proper parameterized query)\n",
    "        cur.execute(\"SELECT 1 FROM pg_catalog.pg_database WHERE datname = %s\", (dbname,))\n",
    "        \n",
    "        if not cur.fetchone():\n",
    "            cur.execute(SQL(\"CREATE DATABASE {}\").format(Identifier(dbname)))\n",
    "            print(f\"Database '{dbname}' created successfully\")\n",
    "        else:\n",
    "            print(f\"Database '{dbname}' already exists\")\n",
    "        \n",
    "    except psycopg2.Error as e:\n",
    "        print(e)\n",
    "        raise\n",
    "    finally:\n",
    "        if cur: cur.close() \n",
    "        if conn: conn.close() "
   ]
  },
  {
   "cell_type": "code",
   "execution_count": 66,
   "id": "713a280d",
   "metadata": {},
   "outputs": [],
   "source": [
    "def preprocess_line(line):\n",
    "    parts = line.strip().split(\"::\")\n",
    "    return f\"{parts[0]}\\t{parts[1]}\\t{parts[2]}\\n\"\n",
    "\n",
    "def LoadRatings(ratings_file_path):\n",
    "    conn = None \n",
    "    cur = None \n",
    "    try:\n",
    "        dbname = 'assignment1'\n",
    "        create_db(dbname=dbname) \n",
    "\n",
    "        conn = getopenconnection(dbname=dbname)\n",
    "        cur = conn.cursor()\n",
    "\n",
    "        cur.execute(\"\"\"\n",
    "            CREATE TABLE IF NOT EXISTS ratings (UserId INTEGER, MovieId INTEGER, Rating FLOAT)  \n",
    "        \"\"\") \n",
    "        conn.commit()\n",
    "\n",
    "        batch_size=200_000\n",
    "        buffer = StringIO()\n",
    "        with open(ratings_file_path, 'r') as file:\n",
    "            for i, line in enumerate(file, 1):\n",
    "                buffer.write(preprocess_line(line))\n",
    "                if i % batch_size == 0:\n",
    "                    buffer.seek(0)\n",
    "                    cur.copy_from(buffer, 'ratings', sep='\\t', columns=('userid', 'movieid', 'rating'))\n",
    "\n",
    "                    buffer.seek(0) \n",
    "                    buffer.truncate() \n",
    "\n",
    "            if buffer.tell():\n",
    "                buffer.seek(0)\n",
    "                cur.copy_from(buffer, 'ratings', sep='\\t', columns=('userid', 'movieid', 'rating'))\n",
    "       \n",
    "        conn.commit()\n",
    "    except psycopg2.Error as e:\n",
    "        print(e) \n",
    "        if conn: conn.rollback()\n",
    "        raise \n",
    "    except IOError as e:\n",
    "        print(e) \n",
    "        raise \n",
    "    except Exception as e:\n",
    "        print(e) \n",
    "        if conn: conn.rollback()\n",
    "        raise \n",
    "    finally:\n",
    "        if cur: cur.close()\n",
    "        if conn: conn.close() \n",
    "\n"
   ]
  },
  {
   "cell_type": "code",
   "execution_count": null,
   "id": "8437721a",
   "metadata": {},
   "outputs": [
    {
     "name": "stdout",
     "output_type": "stream",
     "text": [
      "Database 'assignment1' already exists\n"
     ]
    }
   ],
   "source": [
    "LoadRatings('./ml-10m/ml-10M100K/ratings.dat') \n",
    "# 7.3s"
   ]
  }
 ],
 "metadata": {
  "kernelspec": {
   "display_name": ".venv",
   "language": "python",
   "name": "python3"
  },
  "language_info": {
   "codemirror_mode": {
    "name": "ipython",
    "version": 3
   },
   "file_extension": ".py",
   "mimetype": "text/x-python",
   "name": "python",
   "nbconvert_exporter": "python",
   "pygments_lexer": "ipython3",
   "version": "3.12.3"
  }
 },
 "nbformat": 4,
 "nbformat_minor": 5
}
